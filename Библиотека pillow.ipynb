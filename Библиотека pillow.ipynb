{
  "nbformat": 4,
  "nbformat_minor": 0,
  "metadata": {
    "colab": {
      "provenance": []
    },
    "kernelspec": {
      "name": "python3",
      "display_name": "Python 3"
    },
    "language_info": {
      "name": "python"
    }
  },
  "cells": [
    {
      "cell_type": "markdown",
      "source": [
        "Одной из главных особенностей SymPy является возможность работы с символьными выражениями и переменными. В отличие от чисел, символьные переменные представляют собой символы, которые могут быть использованы для создания выражений."
      ],
      "metadata": {
        "id": "aqviE-_8p9ls"
      }
    },
    {
      "cell_type": "markdown",
      "source": [
        "Давайте создадим несколько символьных переменных с помощью функции `symbols`."
      ],
      "metadata": {
        "id": "A0KRn_AYqBFa"
      }
    },
    {
      "cell_type": "code",
      "source": [
        "import sympy as sp\n",
        "x, y, z = sp.symbols('x y z')"
      ],
      "metadata": {
        "id": "BxjfJfg-pXAR"
      },
      "execution_count": 3,
      "outputs": []
    },
    {
      "cell_type": "markdown",
      "source": [
        "Теперь `x`, `y` и `z` являются символьными переменными, которые могут быть использованы для создания символьных выражений."
      ],
      "metadata": {
        "id": "FipEBTwwp_vJ"
      }
    },
    {
      "cell_type": "markdown",
      "source": [
        "Символьные выражения могут быть созданы путем комбинирования символьных переменных и математических операций. Например, мы можем создать вот такое выражение:"
      ],
      "metadata": {
        "id": "a4e7rsknqMDl"
      }
    },
    {
      "cell_type": "code",
      "source": [
        "n = x**2 + 2*y - z"
      ],
      "metadata": {
        "id": "kXN-0R0NqQfZ"
      },
      "execution_count": null,
      "outputs": []
    },
    {
      "cell_type": "markdown",
      "source": [
        "Теперь в переменной n храниться значение выражения: x, возведенный в квдрат плюс 2 умножить на y минис z"
      ],
      "metadata": {
        "id": "MyRVmiOutYGX"
      }
    },
    {
      "cell_type": "markdown",
      "source": [
        "SymPy поддерживает все основные математические операции, такие как сложение, вычитание, умножение и деление, а также возведение в степень и извлечение корня. Все эти операции можно применять к символьным выражениям. Например:"
      ],
      "metadata": {
        "id": "7AkmpOq4qUNg"
      }
    },
    {
      "cell_type": "code",
      "source": [
        "tmp1 = x + y\n",
        "tmp2 = 2*x - y\n",
        "sum_tmp = tmp1 + tmp2  # Сложение\n",
        "diff_tmp = tmp1 - tmp2  # Вычитание\n",
        "product_tmp = tmp1 * tmp2  # Умножение"
      ],
      "metadata": {
        "id": "scRkpzJCqk77"
      },
      "execution_count": 9,
      "outputs": []
    },
    {
      "cell_type": "markdown",
      "source": [
        "Очень важной возможностью SymPy является возможность подстановки значений в символьные переменные в выражениях. Это позволяет вам вычислять значения выражений для конкретных числовых значений переменных. SymPy постарается упростить выражение до более компактного и читаемого вида, удаляя лишние скобки и объединяя подобные термины. Упрощение особенно полезно при работе с большими и сложными выражениями. Например:"
      ],
      "metadata": {
        "id": "zLX2_Cs9qu5h"
      }
    },
    {
      "cell_type": "code",
      "source": [
        "m = 2 * x + y**2 + z - 4\n",
        "res = m.subs({x: 2, y: 3, z: 1})\n",
        "print(res)"
      ],
      "metadata": {
        "colab": {
          "base_uri": "https://localhost:8080/"
        },
        "id": "wekf9bryqvm5",
        "outputId": "27da5283-9c0a-4a89-bbd2-f4626e25ed6a"
      },
      "execution_count": 24,
      "outputs": [
        {
          "output_type": "stream",
          "name": "stdout",
          "text": [
            "10\n"
          ]
        }
      ]
    },
    {
      "cell_type": "markdown",
      "source": [
        "Также символьные выражения можно упрощать с помощью функции simplify:"
      ],
      "metadata": {
        "id": "JFbV5sEfqyRZ"
      }
    },
    {
      "cell_type": "code",
      "source": [
        "val = 2 * x + x - y**2 + z + y**2 - 3 * x + 3\n",
        "res_val = sp.simplify(val)\n",
        "print(val)"
      ],
      "metadata": {
        "colab": {
          "base_uri": "https://localhost:8080/"
        },
        "id": "vqISx1ehq6BG",
        "outputId": "ce57ed54-fcd2-43de-97c5-94de2994ecfb"
      },
      "execution_count": 15,
      "outputs": [
        {
          "output_type": "stream",
          "name": "stdout",
          "text": [
            "z + 3\n"
          ]
        }
      ]
    },
    {
      "cell_type": "markdown",
      "source": [
        "Вы можете раскрыть скобки в выражениях с помощью функции expand:"
      ],
      "metadata": {
        "id": "lHUou2T0q9QD"
      }
    },
    {
      "cell_type": "code",
      "source": [
        "sum_dig = -((y + z) - (y + z) + (x - z))\n",
        "expanded_sum_dig = sp.expand(sum_dig)\n",
        "print(expanded_sum_dig)"
      ],
      "metadata": {
        "colab": {
          "base_uri": "https://localhost:8080/"
        },
        "id": "mYjmZRphrJD_",
        "outputId": "e975088f-9af3-4a38-d6e7-4deb31433561"
      },
      "execution_count": 17,
      "outputs": [
        {
          "output_type": "stream",
          "name": "stdout",
          "text": [
            "-x + z\n"
          ]
        }
      ]
    },
    {
      "cell_type": "markdown",
      "source": [
        "С помощью функции Eq можно создавать уравнения. Например, создадим уравнение x + 2*y = 5:"
      ],
      "metadata": {
        "id": "YG3yqHgMrLO4"
      }
    },
    {
      "cell_type": "code",
      "source": [
        "eq = sp.Eq(x + 2*y, 5)"
      ],
      "metadata": {
        "colab": {
          "base_uri": "https://localhost:8080/"
        },
        "id": "fBv2ZPJUrR50",
        "outputId": "809e2122-1d0f-48bf-d23c-27827d534df2"
      },
      "execution_count": 18,
      "outputs": [
        {
          "output_type": "stream",
          "name": "stdout",
          "text": [
            "Eq(x + 2*y, 5)\n"
          ]
        }
      ]
    },
    {
      "cell_type": "markdown",
      "source": [
        "SymPy позволяет решать уравнения с помощью функции solve. Например, решим уравнение x**2 — 4 = 0:"
      ],
      "metadata": {
        "id": "FvJ5TqhFrfOB"
      }
    },
    {
      "cell_type": "code",
      "source": [
        "solution = sp.solve(x**2 - 4, x)\n",
        "print(solution)"
      ],
      "metadata": {
        "colab": {
          "base_uri": "https://localhost:8080/"
        },
        "id": "Hcke-MKFrlbZ",
        "outputId": "3213d364-42bd-409a-a599-640b9263c51f"
      },
      "execution_count": 19,
      "outputs": [
        {
          "output_type": "stream",
          "name": "stdout",
          "text": [
            "[-2, 2]\n"
          ]
        }
      ]
    },
    {
      "cell_type": "markdown",
      "source": [
        "Часто возникают задачи с несколькими уравнениями, такими как системы линейных уравнений. SymPy позволяет создавать и решать такие системы. Например:"
      ],
      "metadata": {
        "id": "zSFLXRIIrrxB"
      }
    },
    {
      "cell_type": "code",
      "source": [
        "eq1 = sp.Eq(x + y, 6)\n",
        "eq2 = sp.Eq(2*x - y, 3)\n",
        "solutions = sp.solve((eq1, eq2), (x, y))\n",
        "print(solutions)"
      ],
      "metadata": {
        "colab": {
          "base_uri": "https://localhost:8080/"
        },
        "id": "KEjbrc94soe1",
        "outputId": "1ba763be-b17f-4f70-abce-3998ea7766fc"
      },
      "execution_count": 23,
      "outputs": [
        {
          "output_type": "stream",
          "name": "stdout",
          "text": [
            "{x: 3, y: 3}\n"
          ]
        }
      ]
    },
    {
      "cell_type": "markdown",
      "source": [
        "Здесь мы создали систему уравнений eq1 и eq2, а затем решили ее, получив значения переменных x и y."
      ],
      "metadata": {
        "id": "nBqKrUxosr6i"
      }
    }
  ]
}